{
 "cells": [
  {
   "cell_type": "code",
   "execution_count": 17,
   "id": "4ce5f028",
   "metadata": {},
   "outputs": [],
   "source": [
    "import pandas as pd\n",
    "\n",
    "import re\n",
    "\n",
    "from sklearn.metrics import roc_auc_score\n",
    "from transformers import pipeline as pipe\n",
    "from typing import Union, Tuple, List, Match\n",
    "import torch\n",
    "from lib.config import model_path, device, CONTACT\n",
    "from tqdm.auto import tqdm\n",
    "\n",
    "import warnings\n",
    "\n",
    "warnings.filterwarnings('ignore')"
   ]
  },
  {
   "cell_type": "markdown",
   "id": "19baa2a0",
   "metadata": {},
   "source": [
    "# Задача 1\n",
    "\n",
    "## BERT tiny"
   ]
  },
  {
   "cell_type": "code",
   "execution_count": 5,
   "id": "5c5f7366",
   "metadata": {},
   "outputs": [
    {
     "data": {
      "text/plain": [
       "('./bert_final_model', device(type='cpu'))"
      ]
     },
     "execution_count": 5,
     "metadata": {},
     "output_type": "execute_result"
    }
   ],
   "source": [
    "model_path, device"
   ]
  },
  {
   "cell_type": "code",
   "execution_count": 2,
   "id": "7cda31f2",
   "metadata": {},
   "outputs": [],
   "source": [
    "# train = pd.read_csv('data/train.csv')\n",
    "val = pd.read_csv('data/val.csv')"
   ]
  },
  {
   "cell_type": "code",
   "execution_count": 3,
   "id": "6bd3cb07",
   "metadata": {},
   "outputs": [],
   "source": [
    "def predict_proba(text: str, pipeline) -> float:\n",
    "    \"\"\"Получение вероятности контакта в тексте\"\"\"\n",
    "    predict = pipeline(text)[0]\n",
    "    if predict[\"label\"] == \"LABEL_0\":\n",
    "        return 1 - predict[\"score\"]\n",
    "    return predict[\"score\"]\n",
    "\n",
    "def task1(description: pd.Series) -> List[float]:\n",
    "    \"\"\"Получение результатов предсказания модели поиска контактов в тексте\"\"\"\n",
    "    clf = pipe(\"text-classification\", model=model_path, device=device)\n",
    "    dataset_pbar = tqdm(description)\n",
    "    result = [predict_proba(data, clf) for data in dataset_pbar]\n",
    "    return result"
   ]
  },
  {
   "cell_type": "code",
   "execution_count": 6,
   "id": "b04f3f97",
   "metadata": {},
   "outputs": [
    {
     "data": {
      "application/vnd.jupyter.widget-view+json": {
       "model_id": "6fae8df5a70043e2a506b5ad773614a8",
       "version_major": 2,
       "version_minor": 0
      },
      "text/plain": [
       "  0%|          | 0/16237 [00:00<?, ?it/s]"
      ]
     },
     "metadata": {},
     "output_type": "display_data"
    }
   ],
   "source": [
    "y_pred = pd.Series(task1(val.description), index=val.index)"
   ]
  },
  {
   "cell_type": "code",
   "execution_count": 8,
   "id": "5f7793a9",
   "metadata": {},
   "outputs": [
    {
     "name": "stdout",
     "output_type": "stream",
     "text": [
      "Бытовая электроника - 0.97\n",
      "Для бизнеса - 0.97\n",
      "Для дома и дачи - 0.97\n",
      "Животные - 0.96\n",
      "Личные вещи - 0.89\n",
      "Недвижимость - 0.99\n",
      "Работа - 0.96\n",
      "Транспорт - 1.00\n",
      "Услуги - 0.95\n",
      "Хобби и отдых - 0.95\n",
      "\n",
      "ROC_AUC = 0.96\n"
     ]
    }
   ],
   "source": [
    "y_test = val.is_bad\n",
    "calegories = np.unique(val.category.tolist())\n",
    "roc_auc_category = {}\n",
    "\n",
    "for cat in calegories:\n",
    "    idx = val[val.category == cat].index\n",
    "    roc_auc = roc_auc_score(y_test[idx], y_pred[idx])\n",
    "    roc_auc_category[cat] = roc_auc\n",
    "    print(f'{cat} - {roc_auc:0.2f}')\n",
    "    \n",
    "print(f'\\nROC_AUC = {np.mean(list(roc_auc_category.values())):.2f}')"
   ]
  },
  {
   "cell_type": "markdown",
   "id": "38a1b0af",
   "metadata": {},
   "source": [
    "# Задача 2\n",
    "## Поиск позиции контактов"
   ]
  },
  {
   "cell_type": "code",
   "execution_count": 12,
   "id": "64fa72ed",
   "metadata": {},
   "outputs": [
    {
     "data": {
      "text/plain": [
       "'(?:(\\\\+?[7|8|9])([\\\\-\\\\(\\\\)а-яА-Яa-zA-Z_ ]{0,10}))?(\\\\d{3})([\\\\-\\\\(\\\\)а-яА-Яa-zA-Z_ ]{0,10})(\\\\d{3})([\\\\-\\\\(\\\\)а-яА-Яa-zA-Z_ ]{0,10})(\\\\d{2})([\\\\-\\\\(\\\\)а-яА-Яa-zA-Z_ ]{0,10})(\\\\d{2});(@\\\\w{4,32})|(?:(https?:\\\\/?\\\\/)?t(elegram)?\\\\.me\\\\/(\\\\w{5,}));(http:\\\\/?\\\\/?|https:\\\\/?\\\\/?)?(www.)?(vk\\\\.com|vkontakte\\\\.ru)\\\\/(id\\\\d|[a-zA-Z0-9_.]){2,}'"
      ]
     },
     "execution_count": 12,
     "metadata": {},
     "output_type": "execute_result"
    }
   ],
   "source": [
    "CONTACT"
   ]
  },
  {
   "cell_type": "code",
   "execution_count": 18,
   "id": "e3c136c5",
   "metadata": {},
   "outputs": [],
   "source": [
    "def get_regular(text: str, regular: str) -> List[Match[str]]:\n",
    "    \"\"\"Получение списка с результатами поиска паттернов\"\"\"\n",
    "    regex_split = regular.split(\";\")\n",
    "    result = [list(re.finditer(reg, text)) for reg in regex_split]\n",
    "    return sum(result, [])\n",
    "\n",
    "\n",
    "def task2(\n",
    "    description: str, regular=CONTACT\n",
    ") -> Union[Tuple[int, int], Tuple[None, None]]:\n",
    "    \"\"\"Получение результатов предсказания позиции контакта в строке\"\"\"\n",
    "    result = get_regular(description, regular)\n",
    "    if len(result) == 1:\n",
    "        return result[0].start(), result[0].end() - 1\n",
    "    return None, None"
   ]
  },
  {
   "cell_type": "code",
   "execution_count": 19,
   "id": "7f7ce285",
   "metadata": {},
   "outputs": [],
   "source": [
    "task2_prediction = pd.DataFrame(columns=[\"index\", \"start\", \"finish\"])\n",
    "task2_prediction[\"index\"] = val.index\n",
    "task2_prediction[[\"start\", \"finish\"]] = val[\"description\"].apply(\n",
    "    lambda x: pd.Series(task2(description=x)),\n",
    ")"
   ]
  },
  {
   "cell_type": "code",
   "execution_count": 20,
   "id": "ba35faa8",
   "metadata": {},
   "outputs": [
    {
     "data": {
      "text/html": [
       "<div>\n",
       "<style scoped>\n",
       "    .dataframe tbody tr th:only-of-type {\n",
       "        vertical-align: middle;\n",
       "    }\n",
       "\n",
       "    .dataframe tbody tr th {\n",
       "        vertical-align: top;\n",
       "    }\n",
       "\n",
       "    .dataframe thead th {\n",
       "        text-align: right;\n",
       "    }\n",
       "</style>\n",
       "<table border=\"1\" class=\"dataframe\">\n",
       "  <thead>\n",
       "    <tr style=\"text-align: right;\">\n",
       "      <th></th>\n",
       "      <th>index</th>\n",
       "      <th>start</th>\n",
       "      <th>finish</th>\n",
       "    </tr>\n",
       "  </thead>\n",
       "  <tbody>\n",
       "    <tr>\n",
       "      <th>0</th>\n",
       "      <td>0</td>\n",
       "      <td>8.0</td>\n",
       "      <td>18.0</td>\n",
       "    </tr>\n",
       "    <tr>\n",
       "      <th>1</th>\n",
       "      <td>1</td>\n",
       "      <td>NaN</td>\n",
       "      <td>NaN</td>\n",
       "    </tr>\n",
       "    <tr>\n",
       "      <th>2</th>\n",
       "      <td>2</td>\n",
       "      <td>263.0</td>\n",
       "      <td>277.0</td>\n",
       "    </tr>\n",
       "    <tr>\n",
       "      <th>3</th>\n",
       "      <td>3</td>\n",
       "      <td>NaN</td>\n",
       "      <td>NaN</td>\n",
       "    </tr>\n",
       "    <tr>\n",
       "      <th>4</th>\n",
       "      <td>4</td>\n",
       "      <td>NaN</td>\n",
       "      <td>NaN</td>\n",
       "    </tr>\n",
       "  </tbody>\n",
       "</table>\n",
       "</div>"
      ],
      "text/plain": [
       "   index  start  finish\n",
       "0      0    8.0    18.0\n",
       "1      1    NaN     NaN\n",
       "2      2  263.0   277.0\n",
       "3      3    NaN     NaN\n",
       "4      4    NaN     NaN"
      ]
     },
     "execution_count": 20,
     "metadata": {},
     "output_type": "execute_result"
    }
   ],
   "source": [
    "task2_prediction[:5]"
   ]
  }
 ],
 "metadata": {
  "kernelspec": {
   "display_name": "Python 3",
   "language": "python",
   "name": "python3"
  },
  "language_info": {
   "codemirror_mode": {
    "name": "ipython",
    "version": 3
   },
   "file_extension": ".py",
   "mimetype": "text/x-python",
   "name": "python",
   "nbconvert_exporter": "python",
   "pygments_lexer": "ipython3",
   "version": "3.8.8"
  },
  "toc": {
   "base_numbering": 1,
   "nav_menu": {},
   "number_sections": true,
   "sideBar": true,
   "skip_h1_title": false,
   "title_cell": "Table of Contents",
   "title_sidebar": "Contents",
   "toc_cell": false,
   "toc_position": {},
   "toc_section_display": true,
   "toc_window_display": true
  }
 },
 "nbformat": 4,
 "nbformat_minor": 5
}
