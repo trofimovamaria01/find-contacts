{
 "cells": [
  {
   "cell_type": "markdown",
   "metadata": {
    "colab_type": "text",
    "id": "HMmjn1KpCyiq"
   },
   "source": [
    "# Задача 1\n",
    "\n",
    "\n",
    "В первой задаче необходимо оценить вероятность наличия в объявлении контактной информации. \n",
    "Результатом работы модели является `pd.DataFrame` с колонками:\n",
    "* `index`: `int`, положение записи в файле;\n",
    "* `prediction`: `float` от 0 до 1."
   ]
  },
  {
   "cell_type": "markdown",
   "metadata": {
    "colab_type": "text",
    "id": "BOtIN61qTcLz"
   },
   "source": [
    "# Решение\n",
    "## Импорт данных"
   ]
  },
  {
   "cell_type": "code",
   "execution_count": 20,
   "metadata": {
    "colab": {
     "base_uri": "https://localhost:8080/",
     "height": 71
    },
    "colab_type": "code",
    "id": "HoJxofkV3N5y",
    "outputId": "164e9d46-b0df-415e-f1fc-827918642fbe"
   },
   "outputs": [],
   "source": [
    "import re\n",
    "import numpy as np\n",
    "import pandas as pd\n",
    "from lightgbm import LGBMClassifier\n",
    "\n",
    "import pickle\n",
    "\n",
    "from scipy.sparse import csr_matrix\n",
    "from sklearn.base import BaseEstimator, TransformerMixin\n",
    "from sklearn.feature_extraction.text import TfidfVectorizer\n",
    "from sklearn.compose import make_column_transformer\n",
    "\n",
    "\n",
    "from sklearn.metrics import roc_auc_score\n",
    "from sklearn.preprocessing import OneHotEncoder, StandardScaler\n",
    "\n",
    "from sklearn.linear_model import LogisticRegression\n",
    "from sklearn.pipeline import Pipeline\n",
    "from sklearn.impute import SimpleImputer\n",
    "\n",
    "from scipy import sparse\n",
    "\n",
    "RANDOM_STATE = 42\n",
    "\n",
    "import warnings\n",
    "warnings.filterwarnings('ignore')"
   ]
  },
  {
   "cell_type": "code",
   "execution_count": 21,
   "metadata": {
    "colab": {},
    "colab_type": "code",
    "id": "URxjUkuW3GcJ"
   },
   "outputs": [],
   "source": [
    "dtype_dict = {\n",
    "    'subcategory': 'category',\n",
    "    'category': 'category',\n",
    "    'price': 'float32',\n",
    "    'region': 'category',\n",
    "    'city': 'category',\n",
    "    'is_bad': 'bool'\n",
    "}\n",
    "\n",
    "train = pd.read_csv('data/train.csv',\n",
    "                    dtype=dtype_dict)\n",
    "val = pd.read_csv('data/val.csv',\n",
    "                  dtype=dtype_dict)"
   ]
  },
  {
   "cell_type": "code",
   "execution_count": 22,
   "metadata": {
    "colab": {
     "base_uri": "https://localhost:8080/",
     "height": 289
    },
    "colab_type": "code",
    "id": "-R42rPUubyFE",
    "outputId": "056d7654-88e4-465b-8b82-40be21a475ba",
    "scrolled": true
   },
   "outputs": [
    {
     "name": "stdout",
     "output_type": "stream",
     "text": [
      "<class 'pandas.core.frame.DataFrame'>\n",
      "RangeIndex: 984487 entries, 0 to 984486\n",
      "Data columns (total 9 columns):\n",
      " #   Column              Non-Null Count   Dtype   \n",
      "---  ------              --------------   -----   \n",
      " 0   title               984487 non-null  object  \n",
      " 1   description         984487 non-null  object  \n",
      " 2   subcategory         984487 non-null  category\n",
      " 3   category            984487 non-null  category\n",
      " 4   price               926439 non-null  float32 \n",
      " 5   region              984487 non-null  category\n",
      " 6   city                984487 non-null  category\n",
      " 7   datetime_submitted  984487 non-null  object  \n",
      " 8   is_bad              984487 non-null  bool    \n",
      "dtypes: bool(1), category(4), float32(1), object(3)\n",
      "memory usage: 32.1+ MB\n"
     ]
    }
   ],
   "source": [
    "train.info()"
   ]
  },
  {
   "cell_type": "code",
   "execution_count": 23,
   "metadata": {
    "colab": {
     "base_uri": "https://localhost:8080/",
     "height": 289
    },
    "colab_type": "code",
    "id": "Rjxzui1Gb08J",
    "outputId": "169a50f2-91cb-4131-de1a-b2f38cfe378c"
   },
   "outputs": [
    {
     "name": "stdout",
     "output_type": "stream",
     "text": [
      "<class 'pandas.core.frame.DataFrame'>\n",
      "RangeIndex: 16237 entries, 0 to 16236\n",
      "Data columns (total 9 columns):\n",
      " #   Column              Non-Null Count  Dtype   \n",
      "---  ------              --------------  -----   \n",
      " 0   title               16237 non-null  object  \n",
      " 1   description         16237 non-null  object  \n",
      " 2   subcategory         16237 non-null  category\n",
      " 3   category            16237 non-null  category\n",
      " 4   price               15374 non-null  float32 \n",
      " 5   region              16237 non-null  category\n",
      " 6   city                16237 non-null  category\n",
      " 7   datetime_submitted  16237 non-null  object  \n",
      " 8   is_bad              16237 non-null  bool    \n",
      "dtypes: bool(1), category(4), float32(1), object(3)\n",
      "memory usage: 586.3+ KB\n"
     ]
    }
   ],
   "source": [
    "val.info()"
   ]
  },
  {
   "cell_type": "markdown",
   "metadata": {
    "colab_type": "text",
    "id": "OOCDzPSDCg-S"
   },
   "source": [
    "## Преобразование признаков\n",
    "\n",
    "- Добавим признак `flg_col` - информация о найденном контакте при помощи регулярного выражения\n",
    "- Преобразуем `datetime_submitted`\n",
    "- Закодируем категориальные признаки (для линейной модели)\n",
    "- Для простоты пока на этапе безлайна заполним пропуски медианой в `price`\n",
    "- Преобразуем в векторы столбцы `description` и `title` при помощи Tfidf"
   ]
  },
  {
   "cell_type": "code",
   "execution_count": 24,
   "metadata": {},
   "outputs": [],
   "source": [
    "phone = r\"(?:(\\+?[7|8|9])([\\-\\(\\)а-яА-Яa-zA-Z_ ]{0,10}))?(\\d{3})([\\-\\(\\)а-яА-Яa-zA-Z_ ]{0,10})(\\d{3})([\\-\\(\\)а-яА-Яa-zA-Z_ ]{0,10})(\\d{2})([\\-\\(\\)а-яА-Яa-zA-Z_ ]{0,10})(\\d{2})\"\n",
    "username = r\"(@\\w{4,32})|(?:(https?:\\/?\\/)?t(elegram)?\\.me\\/(\\w{5,}))\"\n",
    "vk = r\"(http:\\/?\\/?|https:\\/?\\/?)?(www.)?(vk\\.com|vkontakte\\.ru)\\/(id\\d|[a-zA-Z0-9_.]){2,}\"\n",
    "\n",
    "\n",
    "CONTACT = '|'.join([phone, username, vk])"
   ]
  },
  {
   "cell_type": "code",
   "execution_count": 25,
   "metadata": {
    "colab": {},
    "colab_type": "code",
    "id": "amO2wCeoKVsN"
   },
   "outputs": [],
   "source": [
    "class FindRegex(BaseEstimator, TransformerMixin):\n",
    "    def __init__(self, pattern, **kwargs):\n",
    "        self.pattern = pattern\n",
    "        super().__init__(**kwargs)\n",
    "\n",
    "    def fit(self, X, y=None):\n",
    "        return self\n",
    "\n",
    "    def find_regex(self, data: str):\n",
    "        if re.search(self.pattern, data.lower()):\n",
    "            return 1\n",
    "        return 0\n",
    "\n",
    "    def transform(self, X, y=None):\n",
    "        result = csr_matrix(X.apply(self.find_regex)).T\n",
    "        return result\n",
    "\n",
    "    def get_feature_names(self):\n",
    "        return ['flg_col']"
   ]
  },
  {
   "cell_type": "markdown",
   "metadata": {
    "colab_type": "text",
    "id": "d0VSjwhoDp4u"
   },
   "source": [
    "Для простоты построим pipline, чтобы далее можно было удобно применять на тестовых данных"
   ]
  },
  {
   "cell_type": "code",
   "execution_count": 26,
   "metadata": {
    "colab": {
     "base_uri": "https://localhost:8080/",
     "height": 68
    },
    "colab_type": "code",
    "id": "ur7jFM3TJfme",
    "outputId": "f16bb407-f9b7-4c57-8f71-77831c53e881",
    "scrolled": true
   },
   "outputs": [
    {
     "name": "stdout",
     "output_type": "stream",
     "text": [
      "CPU times: user 9min 23s, sys: 3min 18s, total: 12min 42s\n",
      "Wall time: 13min 59s\n"
     ]
    }
   ],
   "source": [
    "%%time\n",
    "\n",
    "pipeline = make_column_transformer(\n",
    "    (OneHotEncoder(handle_unknown='ignore',\n",
    "                   drop='first'), ['subcategory', 'category', 'region', 'city']),\n",
    "    (SimpleImputer(strategy='median'), ['price']),\n",
    "    (FindRegex(pattern=CONTACT), 'description'),\n",
    "    (TfidfVectorizer(min_df=1000, ngram_range=(1, 2),\n",
    "                     max_features=1000), 'description'),\n",
    "    (TfidfVectorizer(min_df=1000, ngram_range=(1, 2),\n",
    "                     max_features=500), 'title'))\n",
    "\n",
    "X_train = pipeline.fit_transform(train.drop(columns=['is_bad']))\n",
    "X_test = pipeline.transform(val.drop(columns=['is_bad']))\n",
    "\n",
    "y_train = train.is_bad\n",
    "y_test = val.is_bad"
   ]
  },
  {
   "cell_type": "markdown",
   "metadata": {},
   "source": [
    "Сохраним результат"
   ]
  },
  {
   "cell_type": "code",
   "execution_count": 27,
   "metadata": {},
   "outputs": [],
   "source": [
    "# sparse.save_npz(\"X_train.npz\", X_train)\n",
    "# sparse.save_npz(\"X_test.npz\", X_test)"
   ]
  },
  {
   "cell_type": "code",
   "execution_count": 28,
   "metadata": {},
   "outputs": [],
   "source": [
    "# X_train = sparse.load_npz(\"X_train.npz\")\n",
    "# X_test = sparse.load_npz(\"X_test.npz\")"
   ]
  },
  {
   "cell_type": "markdown",
   "metadata": {
    "colab_type": "text",
    "id": "K00Qc7QfD6SX"
   },
   "source": [
    "## Тренировка модели\n",
    "\n",
    "### LogisticRegression"
   ]
  },
  {
   "cell_type": "code",
   "execution_count": 29,
   "metadata": {},
   "outputs": [],
   "source": [
    "baseline_lr = Pipeline(steps=[('sc', StandardScaler(with_mean=False)),\n",
    "                              ('classifier',\n",
    "                               LogisticRegression(random_state=RANDOM_STATE,\n",
    "                                                  class_weight='balanced'))])"
   ]
  },
  {
   "cell_type": "code",
   "execution_count": 30,
   "metadata": {
    "scrolled": true
   },
   "outputs": [
    {
     "name": "stdout",
     "output_type": "stream",
     "text": [
      "CPU times: user 48.3 s, sys: 3.94 s, total: 52.2 s\n",
      "Wall time: 21.9 s\n"
     ]
    },
    {
     "data": {
      "text/plain": [
       "Pipeline(steps=[('sc', StandardScaler(with_mean=False)),\n",
       "                ('classifier',\n",
       "                 LogisticRegression(class_weight='balanced', random_state=42))])"
      ]
     },
     "execution_count": 30,
     "metadata": {},
     "output_type": "execute_result"
    }
   ],
   "source": [
    "%%time\n",
    "baseline_lr.fit(X_train, y_train)"
   ]
  },
  {
   "cell_type": "markdown",
   "metadata": {},
   "source": [
    "### Результаты\n",
    "\n",
    "Посмотрим на значение метрик в каждой из категории, а также на среднее значение `ROC AUC`"
   ]
  },
  {
   "cell_type": "code",
   "execution_count": 31,
   "metadata": {},
   "outputs": [
    {
     "name": "stdout",
     "output_type": "stream",
     "text": [
      "Бытовая электроника - 0.89\n",
      "Для бизнеса - 0.75\n",
      "Для дома и дачи - 0.88\n",
      "Животные - 0.83\n",
      "Личные вещи - 0.84\n",
      "Недвижимость - 0.93\n",
      "Работа - 0.82\n",
      "Транспорт - 0.96\n",
      "Услуги - 0.82\n",
      "Хобби и отдых - 0.88\n",
      "\n",
      "ROC_AUC = 0.86\n"
     ]
    }
   ],
   "source": [
    "y_pred = pd.Series(baseline_lr.predict_proba(X_test)[:, 1], index=y_test.index)\n",
    "calegories = np.unique(train.category.tolist())\n",
    "roc_auc_category = {}\n",
    "\n",
    "for cat in calegories:\n",
    "    idx = val[val.category == cat].index\n",
    "    roc_auc = roc_auc_score(y_test[idx], y_pred[idx])\n",
    "    roc_auc_category[cat] = roc_auc\n",
    "    print(f'{cat} - {roc_auc:0.2f}')\n",
    "    \n",
    "print(f'\\nROC_AUC = {np.mean(list(roc_auc_category.values())):.2f}')"
   ]
  },
  {
   "cell_type": "markdown",
   "metadata": {},
   "source": [
    "### Преобразование признаков для LGBMClassifier\n",
    "\n",
    "Пропустим признак `price`, так как LGBM хорошо умеет справляться с пропусками"
   ]
  },
  {
   "cell_type": "code",
   "execution_count": 32,
   "metadata": {},
   "outputs": [
    {
     "name": "stdout",
     "output_type": "stream",
     "text": [
      "X_train: (984487, 14170), X_test: (16237, 14170)\n",
      "CPU times: user 7min 39s, sys: 1min 32s, total: 9min 12s\n",
      "Wall time: 10min 3s\n"
     ]
    }
   ],
   "source": [
    "%%time\n",
    "\n",
    "pipeline = make_column_transformer(\n",
    "    (OneHotEncoder(handle_unknown='ignore'),\n",
    "     ['subcategory', 'category', 'region', 'city']),\n",
    "    ('passthrough', ['price']), \n",
    "    (FindRegex(pattern=CONTACT), 'description'),\n",
    "    (TfidfVectorizer(min_df=1000, ngram_range=(1, 2)), 'description'),\n",
    "    (TfidfVectorizer(min_df=1000, ngram_range=(1, 2)), 'title'))\n",
    "\n",
    "X_train = pipeline.fit_transform(train.drop(columns=['is_bad']))\n",
    "X_test = pipeline.transform(val.drop(columns=['is_bad']))\n",
    "\n",
    "y_train = train.is_bad\n",
    "y_test = val.is_bad\n",
    "\n",
    "print(f'X_train: {X_train.shape}, X_test: {X_test.shape}')"
   ]
  },
  {
   "cell_type": "code",
   "execution_count": 33,
   "metadata": {},
   "outputs": [],
   "source": [
    "# sparse.save_npz(\"X_train_cat.npz\", X_train)\n",
    "# sparse.save_npz(\"X_test_cat.npz\", X_test)"
   ]
  },
  {
   "cell_type": "markdown",
   "metadata": {},
   "source": [
    "### LGBMClassifier"
   ]
  },
  {
   "cell_type": "code",
   "execution_count": 34,
   "metadata": {},
   "outputs": [],
   "source": [
    "baseline_lgb = LGBMClassifier(n_estimators=500,\n",
    "                              metric='auc',\n",
    "                              is_unbalance=True,\n",
    "                              random_state=RANDOM_STATE)"
   ]
  },
  {
   "cell_type": "code",
   "execution_count": 35,
   "metadata": {
    "scrolled": true
   },
   "outputs": [
    {
     "name": "stdout",
     "output_type": "stream",
     "text": [
      "Training until validation scores don't improve for 40 rounds\n",
      "[10]\ttraining's auc: 0.928304\tvalid_1's auc: 0.904846\n",
      "[20]\ttraining's auc: 0.94\tvalid_1's auc: 0.920048\n",
      "[30]\ttraining's auc: 0.946664\tvalid_1's auc: 0.931423\n",
      "[40]\ttraining's auc: 0.951048\tvalid_1's auc: 0.937492\n",
      "[50]\ttraining's auc: 0.95413\tvalid_1's auc: 0.940693\n",
      "[60]\ttraining's auc: 0.956623\tvalid_1's auc: 0.943143\n",
      "[70]\ttraining's auc: 0.958573\tvalid_1's auc: 0.945209\n",
      "[80]\ttraining's auc: 0.960306\tvalid_1's auc: 0.94656\n",
      "[90]\ttraining's auc: 0.961611\tvalid_1's auc: 0.948454\n",
      "[100]\ttraining's auc: 0.962814\tvalid_1's auc: 0.949731\n",
      "[110]\ttraining's auc: 0.963822\tvalid_1's auc: 0.950572\n",
      "[120]\ttraining's auc: 0.964682\tvalid_1's auc: 0.951105\n",
      "[130]\ttraining's auc: 0.965457\tvalid_1's auc: 0.952042\n",
      "[140]\ttraining's auc: 0.966139\tvalid_1's auc: 0.952937\n",
      "[150]\ttraining's auc: 0.966822\tvalid_1's auc: 0.953326\n",
      "[160]\ttraining's auc: 0.967403\tvalid_1's auc: 0.953797\n",
      "[170]\ttraining's auc: 0.967986\tvalid_1's auc: 0.95446\n",
      "[180]\ttraining's auc: 0.968472\tvalid_1's auc: 0.954957\n",
      "[190]\ttraining's auc: 0.968969\tvalid_1's auc: 0.955298\n",
      "[200]\ttraining's auc: 0.969465\tvalid_1's auc: 0.955699\n",
      "[210]\ttraining's auc: 0.969899\tvalid_1's auc: 0.955967\n",
      "[220]\ttraining's auc: 0.970276\tvalid_1's auc: 0.956196\n",
      "[230]\ttraining's auc: 0.97069\tvalid_1's auc: 0.956509\n",
      "[240]\ttraining's auc: 0.971047\tvalid_1's auc: 0.956816\n",
      "[250]\ttraining's auc: 0.971406\tvalid_1's auc: 0.956993\n",
      "[260]\ttraining's auc: 0.97174\tvalid_1's auc: 0.957185\n",
      "[270]\ttraining's auc: 0.972077\tvalid_1's auc: 0.957423\n",
      "[280]\ttraining's auc: 0.972381\tvalid_1's auc: 0.957587\n",
      "[290]\ttraining's auc: 0.972697\tvalid_1's auc: 0.957776\n",
      "[300]\ttraining's auc: 0.973014\tvalid_1's auc: 0.957922\n",
      "[310]\ttraining's auc: 0.97331\tvalid_1's auc: 0.958024\n",
      "[320]\ttraining's auc: 0.973588\tvalid_1's auc: 0.958203\n",
      "[330]\ttraining's auc: 0.973871\tvalid_1's auc: 0.958484\n",
      "[340]\ttraining's auc: 0.974131\tvalid_1's auc: 0.958676\n",
      "[350]\ttraining's auc: 0.974387\tvalid_1's auc: 0.958678\n",
      "[360]\ttraining's auc: 0.974641\tvalid_1's auc: 0.95895\n",
      "[370]\ttraining's auc: 0.974889\tvalid_1's auc: 0.959125\n",
      "[380]\ttraining's auc: 0.975147\tvalid_1's auc: 0.95922\n",
      "[390]\ttraining's auc: 0.975378\tvalid_1's auc: 0.959453\n",
      "[400]\ttraining's auc: 0.975614\tvalid_1's auc: 0.959566\n",
      "[410]\ttraining's auc: 0.975842\tvalid_1's auc: 0.959632\n",
      "[420]\ttraining's auc: 0.976038\tvalid_1's auc: 0.959766\n",
      "[430]\ttraining's auc: 0.976229\tvalid_1's auc: 0.959817\n",
      "[440]\ttraining's auc: 0.976439\tvalid_1's auc: 0.959884\n",
      "[450]\ttraining's auc: 0.976648\tvalid_1's auc: 0.959959\n",
      "[460]\ttraining's auc: 0.976846\tvalid_1's auc: 0.960202\n",
      "[470]\ttraining's auc: 0.977011\tvalid_1's auc: 0.960156\n",
      "[480]\ttraining's auc: 0.977202\tvalid_1's auc: 0.960166\n",
      "[490]\ttraining's auc: 0.977389\tvalid_1's auc: 0.960363\n",
      "[500]\ttraining's auc: 0.97757\tvalid_1's auc: 0.960493\n",
      "Did not meet early stopping. Best iteration is:\n",
      "[500]\ttraining's auc: 0.97757\tvalid_1's auc: 0.960493\n",
      "CPU times: user 38min 1s, sys: 3min 17s, total: 41min 19s\n",
      "Wall time: 7min 25s\n"
     ]
    },
    {
     "data": {
      "text/plain": [
       "LGBMClassifier(is_unbalance=True, metric='auc', n_estimators=500,\n",
       "               random_state=42)"
      ]
     },
     "execution_count": 35,
     "metadata": {},
     "output_type": "execute_result"
    }
   ],
   "source": [
    "%%time\n",
    "baseline_lgb.fit(X_train,\n",
    "                 y_train,\n",
    "                 eval_set=[(X_train, y_train), (X_test, y_test)],\n",
    "                 eval_metric='auc',\n",
    "                 verbose=10,\n",
    "                 early_stopping_rounds=40)"
   ]
  },
  {
   "cell_type": "code",
   "execution_count": 36,
   "metadata": {},
   "outputs": [],
   "source": [
    "# with open('lgbm_train_pickle.pkl','wb') as f:                                                                                                                                                                                                                                                        \n",
    "#     pickle.dump(baseline_lgb, f) "
   ]
  },
  {
   "cell_type": "markdown",
   "metadata": {},
   "source": [
    "### Результаты\n",
    "\n",
    "Посмотрим на значение метрик в каждой из категории, а также на среднее значение `ROC AUC`"
   ]
  },
  {
   "cell_type": "code",
   "execution_count": 37,
   "metadata": {},
   "outputs": [
    {
     "name": "stdout",
     "output_type": "stream",
     "text": [
      "Бытовая электроника - 0.93\n",
      "Для бизнеса - 0.85\n",
      "Для дома и дачи - 0.93\n",
      "Животные - 0.87\n",
      "Личные вещи - 0.84\n",
      "Недвижимость - 0.97\n",
      "Работа - 0.91\n",
      "Транспорт - 0.98\n",
      "Услуги - 0.88\n",
      "Хобби и отдых - 0.93\n",
      "\n",
      "ROC_AUC = 0.91\n"
     ]
    }
   ],
   "source": [
    "y_pred = pd.Series(baseline_lgb.predict_proba(X_test)[:, 1], index=y_test.index)\n",
    "calegories = np.unique(train.category.tolist())\n",
    "roc_auc_category = {}\n",
    "\n",
    "for cat in calegories:\n",
    "    idx = val[val.category == cat].index\n",
    "    roc_auc = roc_auc_score(y_test[idx], y_pred[idx])\n",
    "    roc_auc_category[cat] = roc_auc\n",
    "    print(f'{cat} - {roc_auc:0.2f}')\n",
    "    \n",
    "print(f'\\nROC_AUC = {np.mean(list(roc_auc_category.values())):.2f}')"
   ]
  }
 ],
 "metadata": {
  "colab": {
   "collapsed_sections": [],
   "machine_shape": "hm",
   "name": "notebook.ipynb",
   "provenance": [],
   "toc_visible": true
  },
  "kernelspec": {
   "display_name": "Python 3",
   "language": "python",
   "name": "python3"
  },
  "language_info": {
   "codemirror_mode": {
    "name": "ipython",
    "version": 3
   },
   "file_extension": ".py",
   "mimetype": "text/x-python",
   "name": "python",
   "nbconvert_exporter": "python",
   "pygments_lexer": "ipython3",
   "version": "3.8.8"
  },
  "toc": {
   "base_numbering": 1,
   "nav_menu": {},
   "number_sections": true,
   "sideBar": true,
   "skip_h1_title": false,
   "title_cell": "Table of Contents",
   "title_sidebar": "Contents",
   "toc_cell": false,
   "toc_position": {
    "height": "calc(100% - 180px)",
    "left": "10px",
    "top": "150px",
    "width": "338.823517px"
   },
   "toc_section_display": true,
   "toc_window_display": true
  }
 },
 "nbformat": 4,
 "nbformat_minor": 1
}
